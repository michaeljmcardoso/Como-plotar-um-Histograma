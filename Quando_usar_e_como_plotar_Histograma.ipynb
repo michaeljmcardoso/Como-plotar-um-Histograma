{
  "nbformat": 4,
  "nbformat_minor": 0,
  "metadata": {
    "colab": {
      "provenance": [],
      "authorship_tag": "ABX9TyPdkc5iHhodeQUnWFAH6xkh",
      "include_colab_link": true
    },
    "kernelspec": {
      "name": "python3",
      "display_name": "Python 3"
    },
    "language_info": {
      "name": "python"
    }
  },
  "cells": [
    {
      "cell_type": "markdown",
      "metadata": {
        "id": "view-in-github",
        "colab_type": "text"
      },
      "source": [
        "<a href=\"https://colab.research.google.com/github/michaeljmcardoso/Como-plotar-um-Histograma/blob/master/Quando_usar_e_como_plotar_Histograma.ipynb\" target=\"_parent\"><img src=\"https://colab.research.google.com/assets/colab-badge.svg\" alt=\"Open In Colab\"/></a>"
      ]
    },
    {
      "cell_type": "markdown",
      "source": [
        "# **Quando usar e como plotar um Histograma usando Python**\n",
        "\n",
        "*by [Michael J M Cardoso](https://github.com/michaeljmcardoso)*\n",
        "\n",
        "---\n",
        "\n",
        "<center><img alt=\"Visualizacao de dados\" width=\"65%\" src=\"https://images.unsplash.com/photo-1639322537504-6427a16b0a28?ixlib=rb-4.0.3&ixid=MnwxMjA3fDB8MHxzZWFyY2h8NTB8fGRhdGF8ZW58MHx8MHx8&auto=format&fit=crop&w=500&q=60\"></center>\n",
        "\n",
        "---\n",
        "\n",
        "    A visualização de dados é uma singular etapa do processo analítico. [...] \n",
        "    E, cada vez mais em nosso mundo sempre mais voltado a dados, mesmo quem não possui \n",
        "    conhecimentos técnicos precisa colocar o chapéu analítico e se comunicar usando dados. \n",
        "    (Cole Nussbaumer Knaflic. Storytelling com Dados. Alta Books, 2017)\n",
        "\n",
        "---\n",
        "\n",
        "## **Introdução**\n",
        "\n",
        "Uma das atividades mais comuns para o cientista de dados é a criação de gráficos para explanação dos seus resultados e busca por *insigths*. Logo, um elemento muito importante do *Data Science* é a visualização de dados, sendo uma das coisas que, particularmente, mais gosto em projetos de ciência de dados.\n",
        "\n",
        "Diferentemente das tabelas que interagem como nosso sistema verbal, os gráficos interagem com nosso sistema visual, que processa as informações com mais rapidez. Assim, um gráfico bem desenhado certamente comunicará a informação com mais rapidez que uma tabela bem desenhada.\n",
        "\n",
        "Existem vários tipos de gráfico, linhas, dispersão, barras (verticais ou horizontais), histograma, área. Porém neste pequeno artigo vamos abordar apenas o histograma, considerado uma das principais formas de visualização e bastante utilizado pelo cientista de dados.\n",
        "\n",
        "Este projeto é parte do checklist do módulo 1 do curso Data Science na Prática do [Sigmoidal](https://sigmoidal.ai/blog/), que tem como uma de suas tarefas produzir um artigo sobre quando usar e como plotar algum dos gráficos aprendidos nesse módulo. Sendo assim, vamos falar um pouco sobre o Histograma.\n",
        "\n",
        "<center><img width=\"35%\" src=\"https://reisdigital.es/wp-content/uploads/2022/10/que-es-un-histograma-y-cuales-son-sus-caracteristicas-principales.png\"></center>\n",
        "\n"
      ],
      "metadata": {
        "id": "oVnR07r-9uLs"
      }
    },
    {
      "cell_type": "markdown",
      "source": [
        "## **O que é um Histograma?**\n",
        "\n",
        "Ele é conceitualmente bem simples. Basicamente, é um gráfico de distribuição de frequência que permite analisar visualmente como uma amostra/população está distribuída. Ou seja, é uma representação gráfica da distribuição de um conjunto de dados. É uma estimativa da distribuição de probabilidade de uma variável contínua. \n",
        "\n",
        "É salutar entendermos que, dependendo do conjunto de dados, haverá um tipo de gráfico que pode ser mais adequado para representá-los. Quando o objetivo é ter uma noção do número de vezes que uma determinada informação aparece no *dataset*, o histograma é o melhor caminho a se tomar para extrairmos informações sobre frequencia e distribuição dos nossos dados.\n",
        "\n",
        "Trata-se de uma importante ferramenta estatística. Quando a variável de uma pesquisa é contínua, os dados podem ser agrupados em classes e, para representar essas classes, utiliza-se o histograma, que é um gráfico de barras justapostas em que cada barra indica uma classe.\n",
        "\n",
        "Em Python, a biblioteca mais popular para criar histogramas é o [Matplotlib](https://matplotlib.org/), que funciona muito bem para gráficos de barras, de dispersão, de linhas e plotar histogramas. Trata-se de uma biblioteca bastante ampla para criar visualizações estáticas, animadas e interativas.\n",
        "\n",
        " \n"
      ],
      "metadata": {
        "id": "1oGjty3kTQEB"
      }
    },
    {
      "cell_type": "markdown",
      "source": [
        "## **Quando usar um histograma:**\n",
        "\n",
        "1. Quando desejamos entender a distribuição de um conjunto de dados.\n",
        "2. Quando queremos identificar quaisquer outliers no conjunto de dados.\n",
        "3. Quando precisamos comparar a distribuição de vários conjuntos de dados."
      ],
      "metadata": {
        "id": "eiMz5S4hZI-0"
      }
    },
    {
      "cell_type": "markdown",
      "source": [
        "## **Como criar um histograma:**\n",
        "\n",
        "Para criar um histograma em Python, vamos seguir as seguintes etapas:\n",
        "\n",
        "* Importar a biblioteca necessária\n",
        "* Criar um conjunto de dados ou importar um já existente.\n",
        "* Usar a função plt.hist( ) do Matplotlib para criar o histograma.\n",
        "* Personalizar o histograma definindo alguns parâmetros, como o número de compartimentos (bins), cor e rótulos.\n",
        "* Por fim, exibir o histograma usando a função plt.show()."
      ],
      "metadata": {
        "id": "upwft7V_ZZjf"
      }
    },
    {
      "cell_type": "markdown",
      "source": [
        "Vejmos no exemplo abaixo como criar um histograma passo-a-passo.\n"
      ],
      "metadata": {
        "id": "-jItnIrfZ5kc"
      }
    },
    {
      "cell_type": "markdown",
      "source": [
        "Vamos iniciar importando a biblioteca *matplotlib.pyplot* com o comando `import`. Essse comando é utilizado sempre que precisamos importar uma nova biblioteca no Python. Porém *matplotlib.pyplot* é uma denominação maior do que o necessário, o que pode atrapalhar nosso fluxo de trabalho. Por isso, ficou convencionado entre os programadores o uso de *aliases*, ou \"apelidos\" para as bibliotecas. Fazemos isso usando o `as`.\n",
        "\n",
        "Então quando digitamos:\n",
        "\n",
        "`import matplotlib.pyplot as plt`\n",
        "\n",
        "Estamos dizendo para o Python que:\n",
        "\n",
        "`import` o matplotlib.pyplot `como` plt\n",
        "\n",
        "Ainda sobre *aliases*, é importante saber que podemos dar a eles o nome que quisermos, no entando o recomendável é usar o que já está convencionado entre a comunidade dos programadores. Isso vai facilitar a leitura do seu código para outras pessoas, e usando isso no seu, você se acostuma a ver isso nos códigos de outras pessoas, o que facilita seu entendimento e aprendizado."
      ],
      "metadata": {
        "id": "tV6h6S3foRS4"
      }
    },
    {
      "cell_type": "code",
      "source": [
        "# Importando a biblioteca necessária Matplolib como plt e Seaborn como sns\n",
        "import matplotlib.pyplot as plt\n",
        "import seaborn as sns"
      ],
      "metadata": {
        "id": "x4INl_oybrYN"
      },
      "execution_count": null,
      "outputs": []
    },
    {
      "cell_type": "markdown",
      "source": [
        "O segundo passo é criar um conjunto de dados ou importar um já existente. Neste caso optaremos por criar um *dataset* fictício. Vamos imaginar que se trata de notas de alunos atribuídas após aplicação de um teste em uma turma com 15 alunos. As notas foram as seguintes: **10, 2, 8, 9, 5, 4, 7, 6, 8, 8, 4, 9, 9, 7 e 9**. Sendo assim vamos criar uma lista e atribuir esses valores ao exio-x (variável notas). Listas são um dos principais tipos de dados em Python. Em Python, listas de objetos são representadas pelo tipo `list`. Esse tipo de dados é basicamente uma sequência de elementos inseridos entre colchetes `[]`, que podem ou não ser do mesmo tipo."
      ],
      "metadata": {
        "id": "agUhUK8PrMek"
      }
    },
    {
      "cell_type": "code",
      "source": [
        "# Criar um dataset com notas de alunos em uma lista e atribuir os valores ao eixo-x\n",
        "notas = [10, 2, 8, 9, 5, 4, 7, 6, 8, 8, 4, 9, 9, 7, 9] # eixo-x\n",
        "\n",
        "# Executando a variável notas\n",
        "notas"
      ],
      "metadata": {
        "id": "QZTufmCtYtfZ",
        "colab": {
          "base_uri": "https://localhost:8080/"
        },
        "outputId": "b20e03e2-122b-4010-fb44-5cba3ec30e4a"
      },
      "execution_count": null,
      "outputs": [
        {
          "output_type": "execute_result",
          "data": {
            "text/plain": [
              "[10, 2, 8, 9, 5, 4, 7, 6, 8, 8, 4, 9, 9, 7, 9]"
            ]
          },
          "metadata": {},
          "execution_count": 14
        }
      ]
    },
    {
      "cell_type": "code",
      "source": [
        "# Verificanto tipo da variável\n",
        "type(notas)"
      ],
      "metadata": {
        "colab": {
          "base_uri": "https://localhost:8080/"
        },
        "id": "dKSPuGdyw90O",
        "outputId": "f769588b-685a-4ca5-d0af-d4f94cd6e67f"
      },
      "execution_count": null,
      "outputs": [
        {
          "output_type": "execute_result",
          "data": {
            "text/plain": [
              "list"
            ]
          },
          "metadata": {},
          "execution_count": 15
        }
      ]
    },
    {
      "cell_type": "markdown",
      "source": [
        "Após criar, executar e verificar o tipo da variável **notas**, vemos que nosso conjunto de dados foi corretamente criado como uma lista. Agora estamos prontos! Podemos prosseguir para o próxima etapa e gerar nosso histograma. Para tanto, vamos usar a função `plt.hist()` para criar o histograma. Vamos definir 10 bins e uma cor ‘c’ (ciano). Por fim, adicionamos rótulos aos eixos x e y, um título e exibimos o histograma usando a função `plt.show()`."
      ],
      "metadata": {
        "id": "9Ughln9YxwE1"
      }
    },
    {
      "cell_type": "code",
      "source": [
        "# Criar o histograma\n",
        "plt.hist(notas, bins=10, color='c') \n",
        "\n",
        "# Adicionar os rótulos (labels)\n",
        "plt.xlabel('Notas')\n",
        "plt.ylabel('Frequencia')\n",
        "plt.title('Resultado do Teste')\n",
        "\n",
        "# Exibir o histograma\n",
        "plt.show()"
      ],
      "metadata": {
        "colab": {
          "base_uri": "https://localhost:8080/",
          "height": 295
        },
        "id": "fP761dMfY1u5",
        "outputId": "99432049-46c1-45db-f03a-c6f9215a516d"
      },
      "execution_count": null,
      "outputs": [
        {
          "output_type": "display_data",
          "data": {
            "text/plain": [
              "<Figure size 432x288 with 1 Axes>"
            ],
            "image/png": "[encoded data removed]"
          },
          "metadata": {
            "needs_background": "light"
          }
        }
      ]
    },
    {
      "cell_type": "markdown",
      "source": [
        "Alternativamente, você também pode usar a biblioteca **Seaborn** construída sobre o **Matplotlib** e fornecer ainda mais funcionalidades para criar histogramas. Você pode usar `sns.histplot(data, kde=True, bins=10)` para um histograma com um gráfico de densidade, por exemplo. Para conhecer mais sobre **Seaborn** e ter acesso a documentação completa clique [aqui](https://seaborn.pydata.org/)."
      ],
      "metadata": {
        "id": "DjJoscu2gIaU"
      }
    },
    {
      "cell_type": "code",
      "source": [
        "sns.histplot(notas, kde=True, bins=10);"
      ],
      "metadata": {
        "colab": {
          "base_uri": "https://localhost:8080/",
          "height": 265
        },
        "id": "4jMs9NnV0-Zp",
        "outputId": "a1dfa2d8-5d70-46f7-ce8a-612f43fd1d5f"
      },
      "execution_count": null,
      "outputs": [
        {
          "output_type": "display_data",
          "data": {
            "text/plain": [
              "<Figure size 432x288 with 1 Axes>"
            ],
            "image/png": "[encoded data removed]"
          },
          "metadata": {
            "needs_background": "light"
          }
        }
      ]
    },
    {
      "cell_type": "markdown",
      "source": [
        "## **Conclusão**\n",
        "\n",
        "Como vimos, os histogramas são uma ferramenta útil para entender a distribuição de um conjunto de dados em Python. Usando a biblioteca Matplotlib e seguindo as etapas descritas acima, você pode facilmente criar e personalizar histogramas em seus próprios projetos de análise de dados. Alternativamente, poderá implementar mais funcionalidades ao aprofundar conhecimentos tanto na documentação do Matplolib, quanto do Seaborn.\n",
        "\n",
        "---"
      ],
      "metadata": {
        "id": "ysjkqEwZfIfe"
      }
    },
    {
      "cell_type": "markdown",
      "source": [
        "\n",
        "Link para artigo no [Medium](https://medium.com/@mjcursodatascience/when-to-use-and-how-to-plot-a-histogram-using-the-python-language-8cad9b00013d)\n"
      ],
      "metadata": {
        "id": "fX1X1hN-YUZQ"
      }
    }
  ]
}