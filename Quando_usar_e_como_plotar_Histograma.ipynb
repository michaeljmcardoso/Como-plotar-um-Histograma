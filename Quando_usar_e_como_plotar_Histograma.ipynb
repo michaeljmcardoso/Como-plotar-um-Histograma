{
  "nbformat": 4,
  "nbformat_minor": 0,
  "metadata": {
    "colab": {
      "provenance": [],
      "authorship_tag": "ABX9TyPakjo5Ug62WJisxCuUxjLs",
      "include_colab_link": true
    },
    "kernelspec": {
      "name": "python3",
      "display_name": "Python 3"
    },
    "language_info": {
      "name": "python"
    }
  },
  "cells": [
    {
      "cell_type": "markdown",
      "metadata": {
        "id": "view-in-github",
        "colab_type": "text"
      },
      "source": [
        "<a href=\"https://colab.research.google.com/github/michaeljmcardoso/Histograma/blob/master/Quando_usar_e_como_plotar_Histograma.ipynb\" target=\"_parent\"><img src=\"https://colab.research.google.com/assets/colab-badge.svg\" alt=\"Open In Colab\"/></a>"
      ]
    },
    {
      "cell_type": "markdown",
      "source": [
        "# **Quando usar e como plotar um Histograma usando Python**\n",
        "\n",
        "by Michael J M Cardoso\n",
        "\n",
        "---\n",
        "\n",
        "<center><img width=\"75%\" src=\"\n",
        "\"></center>\n",
        "\n",
        "Um histograma é uma representação gráfica da distribuição de um conjunto de dados. É uma estimativa da distribuição de probabilidade de uma variável contínua. Em Python, a biblioteca mais popular para criar histogramas é o Matplotlib."
      ],
      "metadata": {
        "id": "oVnR07r-9uLs"
      }
    },
    {
      "cell_type": "markdown",
      "source": [
        "## Quando usar um histograma:\n",
        "\n",
        "* Quando você deseja entender a distribuição de um conjunto de dados.\n",
        "* Quando você deseja identificar quaisquer outliers no conjunto de dados.\n",
        "* Quando você deseja comparar a distribuição de vários conjuntos de dados."
      ],
      "metadata": {
        "id": "eiMz5S4hZI-0"
      }
    },
    {
      "cell_type": "markdown",
      "source": [
        "## Como criar um histograma\n",
        "\n",
        "Para criar um histograma em Python, precisaremors seguir as seguintes etapas:\n",
        "\n",
        "* Importar as bibliotecas necessárias, como Matplotlib e Numpy.\n",
        "* Criar um conjunto de dados ou importar um já existente.\n",
        "* Usar a função plt.hist() do Matplotlib para criar o histograma.\n",
        "* Personalizar o histograma definindo alguns parâmetros, como o número de compartimentos(bins), cor e rótulos.\n",
        "* Por fim, exibir o histograma usando a função plt.show()."
      ],
      "metadata": {
        "id": "upwft7V_ZZjf"
      }
    },
    {
      "cell_type": "markdown",
      "source": [
        "Vejmos um exemplo de como criar um histograma usando Python:"
      ],
      "metadata": {
        "id": "-jItnIrfZ5kc"
      }
    },
    {
      "cell_type": "code",
      "source": [
        "# Importando a bibliotecas necessárias,\n",
        "# matplolib como plt e numpy como np\n",
        "import matplotlib.pyplot as plt\n",
        "import numpy as np\n",
        "\n",
        "# Criando o dataset\n",
        "data = np.random.normal(50, 10, 1000)\n",
        "\n",
        "# Criar o histograma\n",
        "plt.hist(data, bins=20, color='c')\n",
        "\n",
        "# Adicionar os rótulos(labels)\n",
        "plt.xlabel('Dados')\n",
        "plt.ylabel('Frequencia')\n",
        "plt.title('Examplo de Histograma ')\n",
        "\n",
        "# Exibir o histograma\n",
        "plt.show()\n"
      ],
      "metadata": {
        "colab": {
          "base_uri": "https://localhost:8080/",
          "height": 295
        },
        "id": "x4INl_oybrYN",
        "outputId": "389035b5-0800-4cf6-90b1-68d95d6c6059"
      },
      "execution_count": 9,
      "outputs": [
        {
          "output_type": "display_data",
          "data": {
            "text/plain": [
              "<Figure size 432x288 with 1 Axes>"
            ],
            "image/png": "[encoded data removed]"
          },
          "metadata": {
            "needs_background": "light"
          }
        }
      ]
    },
    {
      "cell_type": "markdown",
      "source": [
        "Neste exemplo, primeiro importamos as bibliotecas Matplotlib e Numpy. Em seguida, criamos um conjunto de dados usando a função do Numpy random.normal(), que gera números aleatórios com distribuição normal.\n",
        "\n",
        "Em seguida, usamos a função plt.hist() para criar o histograma, com 20 bins e uma cor ‘c’ (ciano).\n",
        "\n",
        "Por fim, adicionamos rótulos aos eixos x e y, um título e exibimos o histograma usando a função plt.show().\n",
        "\n",
        "Você também pode usar a biblioteca Seaborn construída sobre o Matplotlib e fornecer mais funcionalidades para criar histogramas. Você pode usar sns.histplot(data, kde=True) para um histograma com um gráfico de densidade por exemplo. "
      ],
      "metadata": {
        "id": "DjJoscu2gIaU"
      }
    },
    {
      "cell_type": "markdown",
      "source": [
        "## Conclusão\n",
        "\n",
        "Os histogramas são uma ferramenta útil para entender a distribuição de um conjunto de dados em Python. Usando a biblioteca Matplotlib e seguindo as etapas descritas acima, você pode facilmente criar e personalizar histogramas em seus próprios projetos de análise de dados.\n"
      ],
      "metadata": {
        "id": "ysjkqEwZfIfe"
      }
    }
  ]
}