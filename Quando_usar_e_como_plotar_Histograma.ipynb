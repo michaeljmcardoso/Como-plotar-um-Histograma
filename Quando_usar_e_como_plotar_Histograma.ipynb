{
  "nbformat": 4,
  "nbformat_minor": 0,
  "metadata": {
    "colab": {
      "provenance": [],
      "collapsed_sections": [
        "1oGjty3kTQEB",
        "eiMz5S4hZI-0",
        "ysjkqEwZfIfe"
      ],
      "authorship_tag": "ABX9TyMUMV97xeHKv8ytonJmgND4",
      "include_colab_link": true
    },
    "kernelspec": {
      "name": "python3",
      "display_name": "Python 3"
    },
    "language_info": {
      "name": "python"
    }
  },
  "cells": [
    {
      "cell_type": "markdown",
      "metadata": {
        "id": "view-in-github",
        "colab_type": "text"
      },
      "source": [
        "<a href=\"https://colab.research.google.com/github/michaeljmcardoso/Histograma/blob/master/Quando_usar_e_como_plotar_Histograma.ipynb\" target=\"_parent\"><img src=\"https://colab.research.google.com/assets/colab-badge.svg\" alt=\"Open In Colab\"/></a>"
      ]
    },
    {
      "cell_type": "markdown",
      "source": [
        "# **Quando usar e como plotar um Histograma usando Python**\n",
        "\n",
        "*by [Michael J M Cardoso](https://github.com/michaeljmcardoso)*\n",
        "\n",
        "---\n",
        "\n",
        "## **Introdução**\n",
        "\n",
        "Uma das atividades mais comuns para o cientista de dados é a criação de gráficos para explanação dos seus resultados e busca por *insigths*. Logo, um elemento muito importante do *Data Science* é a visualização de dados, sendo uma das coisas que, particularmente, mais gosto em projetos de ciência de dados.\n",
        "\n",
        "Diferentemente das tabelas que interagem como nosso sistema verbal, os gráficos interagem com nosso sistema visual, que processa as informações com mais rapidez. Assim, um gráfico bem desenhado certamente comunicará a informação com mais rapidez que uma tabela bem desenhada.\n",
        "\n",
        "Existem vários tipos de gráfico, linhas, dispersão, barras (verticais ou horizontais), histograma, área. Porém neste pequeno artigo vamos abordar apenas o histograma, considerado uma das principais formas de visualização e bastante utilizado pelo cientista de dados.\n",
        "\n",
        "Este exercício é parte do checklist do módulo 1 do curso Python do Zero do[Sigmoidal](https://sigmoidal.ai/blog/), que traz como um de seus objetivos produzir um artigo sobre quando usar e como plotar algum dos gráficos aprendidos nesse módulo.\n",
        "\n",
        "<center><img width=\"35%\" src=\"https://reisdigital.es/wp-content/uploads/2022/10/que-es-un-histograma-y-cuales-son-sus-caracteristicas-principales.png\"></center>\n",
        "\n",
        "Sendo assim, vamos falar um pouco sobre o Histograma."
      ],
      "metadata": {
        "id": "oVnR07r-9uLs"
      }
    },
    {
      "cell_type": "markdown",
      "source": [
        "## **O que é um Histograma?**\n",
        "\n",
        "Ele é conceitualmente bem simples. Basicamente, é um gráfico de distribuição de frequência que permite analisar visualmente como uma amostra/população está distribuída. Ou seja, é uma representação gráfica da distribuição de um conjunto de dados. É uma estimativa da distribuição de probabilidade de uma variável contínua. \n",
        "\n",
        "É salutar entendermos que, dependendo do conjunto de dados, haverá um tipo de gráfico que pode ser mais adequado para representá-los. Quando o objetivo é ter uma noção do número de vezes que uma determinada informação aparece no *dataset*, o histograma é o melhor caminho a se tomar para extrairmos informações sobre frequencia e distribuição dos nossos dados.\n",
        "\n",
        "Trata-se de uma importante ferramenta estatística. Quando a variável de uma pesquisa é contínua, os dados podem ser agrupados em classes e, para representar essas classes, utiliza-se o histograma, que é um gráfico de barras justapostas em que cada barra indica uma classe.\n",
        "\n",
        "Em Python, a biblioteca mais popular para criar histogramas é o [Matplotlib](https://matplotlib.org/), que funciona muito bem para gráficos de barras, de dispersão, de linhas e plotar histogramas. Trata-se de uma biblioteca bastante ampla para criar visualizações estáticas, animadas e interativas.\n",
        "\n",
        " \n"
      ],
      "metadata": {
        "id": "1oGjty3kTQEB"
      }
    },
    {
      "cell_type": "markdown",
      "source": [
        "## **Quando usar um histograma:**\n",
        "\n",
        "* Quando desejamos entender a distribuição de um conjunto de dados.\n",
        "* Quando queremos identificar quaisquer outliers no conjunto de dados.\n",
        "* Quando precisamos comparar a distribuição de vários conjuntos de dados."
      ],
      "metadata": {
        "id": "eiMz5S4hZI-0"
      }
    },
    {
      "cell_type": "markdown",
      "source": [
        "## **Como criar um histograma**\n",
        "\n",
        "Para criar um histograma em Python, vamos seguir as seguintes etapas:\n",
        "\n",
        "* Importar as bibliotecas necessárias, como Matplotlib, Pandas e Numpy.\n",
        "* Criar um conjunto de dados ou importar um já existente.\n",
        "* Usar a função plt.hist( ) do Matplotlib para criar o histograma.\n",
        "* Personalizar o histograma definindo alguns parâmetros, como o número de compartimentos (bins), cor e rótulos.\n",
        "* Por fim, exibir o histograma usando a função plt.show()."
      ],
      "metadata": {
        "id": "upwft7V_ZZjf"
      }
    },
    {
      "cell_type": "markdown",
      "source": [
        "Vejmos no exemplo abaixo como criar um histograma usando Python.\n"
      ],
      "metadata": {
        "id": "-jItnIrfZ5kc"
      }
    },
    {
      "cell_type": "code",
      "source": [
        "# Importando a bibliotecas necessárias,\n",
        "# matplolib como plt e numpy como np\n",
        "import matplotlib.pyplot as plt\n",
        "import pandas as pd"
      ],
      "metadata": {
        "id": "x4INl_oybrYN"
      },
      "execution_count": 125,
      "outputs": []
    },
    {
      "cell_type": "code",
      "source": [
        "# Criar um dataset com notas de alunos em uma lista\n",
        "\n",
        "# Definindo os valores do eixo-x\n",
        "notas = [10, 2, 8, 9, 5, 4, 7, 6, 8, 8, 4, 9, 9, 7, 9]"
      ],
      "metadata": {
        "id": "QZTufmCtYtfZ"
      },
      "execution_count": 152,
      "outputs": []
    },
    {
      "cell_type": "code",
      "source": [
        "# Criar o histograma\n",
        "plt.hist(notas, bins=10, color='c') \n",
        "\n",
        "# Adicionar os rótulos(labels)\n",
        "plt.xlabel('Notas')\n",
        "plt.ylabel('Frequencia')\n",
        "plt.title('Exemplo de Histograma')\n",
        "\n",
        "# Exibir o histograma\n",
        "plt.show()"
      ],
      "metadata": {
        "colab": {
          "base_uri": "https://localhost:8080/",
          "height": 295
        },
        "id": "fP761dMfY1u5",
        "outputId": "7219f8d9-b1cd-4a78-ec78-29a332a199b5"
      },
      "execution_count": 153,
      "outputs": [
        {
          "output_type": "display_data",
          "data": {
            "text/plain": [
              "<Figure size 432x288 with 1 Axes>"
            ],
            "image/png": "[encoded data removed]"
          },
          "metadata": {
            "needs_background": "light"
          }
        }
      ]
    },
    {
      "cell_type": "markdown",
      "source": [
        "Neste exemplo, primeiro importamos as bibliotecas Matplotlib. Em seguida, criamos um conjunto de dados com notas de alunos em uma lista.\n",
        "\n",
        "Em seguida, usamos a função plt.hist() para criar o histograma, com 20 bins e uma cor ‘c’ (ciano).\n",
        "\n",
        "Por fim, adicionamos rótulos aos eixos x e y, um título e exibimos o histograma usando a função plt.show().\n",
        "\n",
        "Você também pode usar a biblioteca Seaborn construída sobre o Matplotlib e fornecer mais funcionalidades para criar histogramas. Você pode usar sns.histplot(data, kde=True) para um histograma com um gráfico de densidade por exemplo. "
      ],
      "metadata": {
        "id": "DjJoscu2gIaU"
      }
    },
    {
      "cell_type": "markdown",
      "source": [
        "## Conclusão\n",
        "\n",
        "Os histogramas são uma ferramenta útil para entender a distribuição de um conjunto de dados em Python. Usando a biblioteca Matplotlib e seguindo as etapas descritas acima, você pode facilmente criar e personalizar histogramas em seus próprios projetos de análise de dados.\n"
      ],
      "metadata": {
        "id": "ysjkqEwZfIfe"
      }
    }
  ]
}